{
 "cells": [
  {
   "cell_type": "markdown",
   "metadata": {},
   "source": [
    "Load And Split Data"
   ]
  },
  {
   "cell_type": "code",
   "execution_count": 14,
   "metadata": {},
   "outputs": [],
   "source": [
    "import pandas as pd\n",
    "\n",
    "data = pd.read_csv('train.csv', delimiter = \";\")  # Load Train datasets\n",
    "data_test = pd.read_csv('test.csv', delimiter = \";\") # Load Test datasets\n",
    "data_eval = pd.read_csv('evaluation.csv', delimiter=\";\") # Load Evaluation datasets\n",
    "\n",
    "# Split Train Data\n",
    "X_train = data['title'].values + data['text'].values\n",
    "Y_train = data['label'].values\n",
    "\n",
    "# Split Test Data\n",
    "X_test = data_test['title'].values + data_test['text'].values\n",
    "Y_test = data_test['label'].values\n",
    "\n",
    "# Split Evaluation Data\n",
    "X_eval = data_eval['title'].values + data_eval['text'].values\n",
    "Y_eval = data_eval['label'].values\n"
   ]
  },
  {
   "cell_type": "markdown",
   "metadata": {},
   "source": [
    "Tokenization And Preprocessing Data"
   ]
  },
  {
   "cell_type": "code",
   "execution_count": 20,
   "metadata": {},
   "outputs": [],
   "source": [
    "from keras_preprocessing.text import Tokenizer\n",
    "from keras_preprocessing import sequence\n",
    "\n",
    "max_len = 350\n",
    "\n",
    "tokenizer = Tokenizer(num_words=10000, oov_token='<OOV>') # Create Instance tokenizer with 5000 words popular\n",
    "tokenizer.fit_on_texts(X_train) # Build Dictionary based on Train Datasets\n",
    "\n",
    "# Mapping text -> tokenizer. Sequence -> list[number]\n",
    "X_train_sequences = tokenizer.texts_to_sequences(X_train)\n",
    "X_test_sequences = tokenizer.texts_to_sequences(X_test)\n",
    "X_eval_sequences = tokenizer.texts_to_sequences(X_eval)\n",
    "\n",
    "# Padding or Remove for every sequence\n",
    "X_train_padded = sequence.pad_sequences(X_train_sequences, maxlen=max_len, padding='post')\n",
    "X_test_padded = sequence.pad_sequences(X_test_sequences, maxlen=max_len, padding='post')\n",
    "X_eval_padded = sequence.pad_sequences(X_eval_sequences, maxlen=max_len, padding='post')\n"
   ]
  },
  {
   "cell_type": "markdown",
   "metadata": {},
   "source": [
    "Build Models LSTM with Keras"
   ]
  },
  {
   "cell_type": "code",
   "execution_count": 26,
   "metadata": {},
   "outputs": [],
   "source": [
    "from keras.layers import Embedding, LSTM, Dense, SpatialDropout1D\n",
    "from keras.models import Sequential\n",
    "\n",
    "\n",
    "model = Sequential([\n",
    "    Embedding(input_dim=10000, output_dim=128, input_length=max_len), # Embedded input dimension = Dictionary, input length = Sequence max length\n",
    "    SpatialDropout1D(0.3), # Prunning vector decrease Overfitting\n",
    "    LSTM(256, dropout=0.2, activation='tanh', recurrent_activation='sigmoid'), # Model LSTM\n",
    "    Dense(1, activation='sigmoid') # Active Function sigmoid appropriate classified\n",
    "])\n",
    "\n",
    "model.compile(optimizer='adam', loss='binary_crossentropy', metrics=['accuracy']) # optimize model, loss function and accuracy\n"
   ]
  },
  {
   "cell_type": "markdown",
   "metadata": {},
   "source": [
    "Train Model"
   ]
  },
  {
   "cell_type": "code",
   "execution_count": 27,
   "metadata": {},
   "outputs": [
    {
     "name": "stdout",
     "output_type": "stream",
     "text": [
      "Epoch 1/20\n",
      "191/191 [==============================] - 21s 101ms/step - loss: 0.3656 - accuracy: 0.8520 - val_loss: 0.2084 - val_accuracy: 0.9359\n",
      "Epoch 2/20\n",
      "191/191 [==============================] - 19s 99ms/step - loss: 0.1976 - accuracy: 0.9385 - val_loss: 0.2742 - val_accuracy: 0.8742\n",
      "Epoch 3/20\n",
      "191/191 [==============================] - 19s 101ms/step - loss: 0.1984 - accuracy: 0.9231 - val_loss: 0.1854 - val_accuracy: 0.9320\n",
      "Epoch 4/20\n",
      "191/191 [==============================] - 19s 100ms/step - loss: 0.1821 - accuracy: 0.9291 - val_loss: 0.2008 - val_accuracy: 0.9145\n",
      "Epoch 5/20\n",
      "191/191 [==============================] - 19s 100ms/step - loss: 0.3412 - accuracy: 0.8400 - val_loss: 0.4137 - val_accuracy: 0.8353\n",
      "Epoch 6/20\n",
      "191/191 [==============================] - 19s 100ms/step - loss: 0.2618 - accuracy: 0.8787 - val_loss: 0.1487 - val_accuracy: 0.9452\n",
      "Epoch 7/20\n",
      "191/191 [==============================] - 19s 99ms/step - loss: 0.1409 - accuracy: 0.9469 - val_loss: 0.0992 - val_accuracy: 0.9662\n",
      "Epoch 8/20\n",
      "191/191 [==============================] - 19s 100ms/step - loss: 0.0682 - accuracy: 0.9776 - val_loss: 0.1041 - val_accuracy: 0.9680\n",
      "Epoch 9/20\n",
      "191/191 [==============================] - 19s 99ms/step - loss: 0.0496 - accuracy: 0.9840 - val_loss: 0.1162 - val_accuracy: 0.9644\n",
      "Epoch 10/20\n",
      "191/191 [==============================] - 19s 100ms/step - loss: 0.0394 - accuracy: 0.9878 - val_loss: 0.1123 - val_accuracy: 0.9645\n"
     ]
    }
   ],
   "source": [
    "from keras.callbacks import EarlyStopping\n",
    "import tensorflow as tf\n",
    "\n",
    "early_stopping = EarlyStopping(monitor='val_loss', patience=3, restore_best_weights=True) # Stop Training When Model Cant Learn\n",
    "\n",
    "with tf.device('/GPU:0'):\n",
    "    history = model.fit(X_train_padded, Y_train, validation_data=(X_test_padded, Y_test), # Training with: input - X_train_padded\n",
    "                    epochs=20, batch_size=128, callbacks=[early_stopping], verbose=1)  #                output - Y_train\n",
    "                                                                                      #                test - validation_data\n",
    "                                                                                      #                timesteps - epochs\n",
    "                                                                                      #                sample size - batch_size\n",
    "                                                                                      #                optimize - callbacks"
   ]
  },
  {
   "cell_type": "markdown",
   "metadata": {},
   "source": [
    "Model Evaluation"
   ]
  },
  {
   "cell_type": "code",
   "execution_count": 28,
   "metadata": {},
   "outputs": [
    {
     "name": "stdout",
     "output_type": "stream",
     "text": [
      "254/254 [==============================] - 4s 15ms/step\n",
      "Độ chính xác của mô hình: 0.9622\n",
      "Báo cáo phân loại:\n",
      "              precision    recall  f1-score   support\n",
      "\n",
      "           0       0.46      0.47      0.47      3753\n",
      "           1       0.54      0.52      0.53      4364\n",
      "\n",
      "    accuracy                           0.50      8117\n",
      "   macro avg       0.50      0.50      0.50      8117\n",
      "weighted avg       0.50      0.50      0.50      8117\n",
      "\n"
     ]
    }
   ],
   "source": [
    "#       With Accuracy\n",
    "from sklearn.metrics import accuracy_score, classification_report\n",
    "\n",
    "y_pred_prob = model.predict(X_eval_padded)\n",
    "y_pred = (y_pred_prob > 0.5).astype(int)\n",
    "\n",
    "accuracy = accuracy_score(Y_eval, y_pred)\n",
    "print(f\"Độ chính xác của mô hình: {accuracy:.4f}\")\n",
    "print(\"Báo cáo phân loại:\")\n",
    "print(classification_report(Y_test, y_pred))"
   ]
  },
  {
   "cell_type": "code",
   "execution_count": 29,
   "metadata": {},
   "outputs": [
    {
     "data": {
      "image/png": "[encoded data removed]",
      "text/plain": [
       "<Figure size 640x480 with 1 Axes>"
      ]
     },
     "metadata": {},
     "output_type": "display_data"
    }
   ],
   "source": [
    "#       With Plot\n",
    "\n",
    "import matplotlib.pyplot as plt\n",
    "\n",
    "loss = history.history['loss'] # History of Loss Function\n",
    "val_loss = history.history['val_loss'] # value of Loss Function\n",
    "\n",
    "# Show plot\n",
    "\n",
    "plt.plot(loss, label = \"Training Loss\")\n",
    "plt.plot(val_loss, label = \"Validation Loss\")\n",
    "plt.legend()\n",
    "plt.show()"
   ]
  },
  {
   "cell_type": "markdown",
   "metadata": {},
   "source": [
    "Save Models, History Train And Tokenizer"
   ]
  },
  {
   "cell_type": "code",
   "execution_count": 30,
   "metadata": {},
   "outputs": [],
   "source": [
    "import pickle\n",
    "\n",
    "model.save('fake_news_lstm.h5') # Save model\n",
    "\n",
    "with open('tokenizer_lstm.pkl', 'wb') as handle:\n",
    "    pickle.dump(tokenizer, handle, protocol=pickle.HIGHEST_PROTOCOL) # Save tokenizer\n",
    "\n",
    "with open('history.pkl', 'wb') as f:\n",
    "    pickle.dump(history.history, f) # Save history"
   ]
  }
 ],
 "metadata": {
  "kernelspec": {
   "display_name": "Python 3",
   "language": "python",
   "name": "python3"
  },
  "language_info": {
   "codemirror_mode": {
    "name": "ipython",
    "version": 3
   },
   "file_extension": ".py",
   "mimetype": "text/x-python",
   "name": "python",
   "nbconvert_exporter": "python",
   "pygments_lexer": "ipython3",
   "version": "3.8.0"
  }
 },
 "nbformat": 4,
 "nbformat_minor": 2
}
